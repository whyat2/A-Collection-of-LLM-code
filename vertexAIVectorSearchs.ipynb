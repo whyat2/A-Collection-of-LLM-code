{
 "cells": [
  {
   "cell_type": "code",
   "execution_count": 2,
   "metadata": {},
   "outputs": [],
   "source": [
    "#pip install vertexai faiss-cpu\n",
    "#note scan must be built from source when I did it\n",
    "import vertexai\n",
    "import tensorflow as tf\n",
    "from vertexai.language_models import TextEmbeddingInput\n",
    "from vertexai.language_models import TextEmbeddingModel\n",
    "import numpy as np\n",
    "import os\n",
    "from dotenv import load_dotenv\n",
    "import tensorflow_recommenders as tfrs\n",
    "import faiss\n",
    "#vertex ai has many task types  \"RETRIEVAL_QUERY\", \"RETRIEVAL_DOCUMENT\",\n",
    "# \"SEMANTIC_SIMILARITY\", # \"CLASSIFICATION\", and \"CLUSTERING\" for different purpose models\n"
   ]
  },
  {
   "cell_type": "code",
   "execution_count": 5,
   "metadata": {},
   "outputs": [],
   "source": [
    "load_dotenv()\n",
    "projectID = os.getenv('GOOGLE_VERTEX_PROJECT')\n",
    "regionID = os.getenv('GOOGLE_REGION')\n",
    "vertexai.init(project=projectID, location=regionID)"
   ]
  },
  {
   "cell_type": "code",
   "execution_count": 6,
   "metadata": {},
   "outputs": [],
   "source": [
    "#textToEmbed = \"This is the text embedded by the google model\"\n",
    "embeddingModel = TextEmbeddingModel.from_pretrained(\"textembedding-gecko@003\")\n",
    "\n",
    "#as a layer\n",
    "#def Embed(text, task):\n",
    "#    def embedText(text):\n",
    "#        textInput = TextEmbeddingInput(task_type=task, text=text)\n",
    "#        return np.array(embeddingModel.get_embeddings([textInput])[0].values)\n",
    "#    output = tf.py_function(func=embedText, inp=[text], Tout=tf.float32)\n",
    "#    output.set_shape((768,))\n",
    "#    return output\n",
    "\n",
    "def Embed(text, task):\n",
    "    textInput = TextEmbeddingInput(task_type=task, text=text)\n",
    "    return embeddingModel.get_embeddings([textInput])[0].values\n",
    "#LLM_EMBEDDINGS = trainDataset.map(lambda x, y: Embed(x), y)"
   ]
  },
  {
   "cell_type": "code",
   "execution_count": 7,
   "metadata": {},
   "outputs": [
    {
     "name": "stdout",
     "output_type": "stream",
     "text": [
      "c:\\Users\\wyatt\\AI\\AIModels\\LLMRandom\\A-Collection-of-LLM-code\\.conda\\python.exe\n"
     ]
    }
   ],
   "source": [
    "import sys #when i was trying to configure bazel for scann\n",
    "textToSearch = [\n",
    "    \"John really likes his pizza\",\n",
    "    \"The sky is blue\",\n",
    "    \"John's pizza is a circle\",\n",
    "    \"John has severe issues\",\n",
    "    \"John needs to escape the horrible situtation he is in\",\n",
    "    \"John must run until he can escape\",\n",
    "    \"Spiralling spiralling spiralling\",\n",
    "    \"Oh look a squirell\",\n",
    "    \"John dies a brutal death none could have foreseen\",\n",
    "    \"Water is important to drink make sure you get enough\"\n",
    "]\n",
    "query = \"what shape is the pizza John bought?\"\n",
    "print(sys.executable)"
   ]
  },
  {
   "cell_type": "code",
   "execution_count": 13,
   "metadata": {},
   "outputs": [],
   "source": [
    "# get embedded docs and query. Convert docs into a dataset\n",
    "embedQuery = tf.constant((Embed(query, \"RETRIEVAL_QUERY\")))\n",
    "embedSearch = np.array([Embed(value, \"RETRIEVAL_DOCUMENT\") for value in textToSearch])\n",
    "#embedSearch = tf.data.Dataset.from_tensor_slices(embedSearch).enumerate().batch(1)"
   ]
  },
  {
   "cell_type": "code",
   "execution_count": 31,
   "metadata": {},
   "outputs": [
    {
     "name": "stdout",
     "output_type": "stream",
     "text": [
      "(array([[0.51821995, 0.5773435 ]], dtype=float32), array([[2, 0]], dtype=int64))\n",
      "[[2 0]]\n",
      "John's pizza is a circle\n",
      "John really likes his pizza\n"
     ]
    }
   ],
   "source": [
    "index = faiss.IndexHNSWFlat(768, 3) #768 dimensions because embedding dim #3 layers\n",
    "index.add(embedSearch)\n",
    "indexes = index.search(np.expand_dims(embedQuery, axis=0), k=2)\n",
    "print(indexes)\n",
    "sentences = indexes[1]\n",
    "print(sentences)\n",
    "for i in sentences[0]:\n",
    "    print(textToSearch[i])"
   ]
  },
  {
   "cell_type": "code",
   "execution_count": null,
   "metadata": {},
   "outputs": [
    {
     "ename": "ImportError",
     "evalue": "The scann library is not present. Please install it using `pip install scann` to use the ScaNN layer.",
     "output_type": "error",
     "traceback": [
      "\u001b[1;31m---------------------------------------------------------------------------\u001b[0m",
      "\u001b[1;31mImportError\u001b[0m                               Traceback (most recent call last)",
      "Cell \u001b[1;32mIn[15], line 1\u001b[0m\n\u001b[1;32m----> 1\u001b[0m scan \u001b[38;5;241m=\u001b[39m \u001b[43mtfrs\u001b[49m\u001b[38;5;241;43m.\u001b[39;49m\u001b[43mlayers\u001b[49m\u001b[38;5;241;43m.\u001b[39;49m\u001b[43mfactorized_top_k\u001b[49m\u001b[38;5;241;43m.\u001b[39;49m\u001b[43mScaNN\u001b[49m\u001b[43m(\u001b[49m\u001b[43mdistance_measure\u001b[49m\u001b[38;5;241;43m=\u001b[39;49m\u001b[38;5;124;43m'\u001b[39;49m\u001b[38;5;124;43mdot product\u001b[39;49m\u001b[38;5;124;43m'\u001b[39;49m\u001b[43m,\u001b[49m\u001b[43m \u001b[49m\u001b[43mnum_leaves\u001b[49m\u001b[38;5;241;43m=\u001b[39;49m\u001b[38;5;241;43m5\u001b[39;49m\u001b[43m,\u001b[49m\u001b[43m \u001b[49m\u001b[43mnum_leaves_to_search\u001b[49m\u001b[38;5;241;43m=\u001b[39;49m\u001b[38;5;241;43m2\u001b[39;49m\u001b[43m)\u001b[49m\n\u001b[0;32m      2\u001b[0m scan\u001b[38;5;241m.\u001b[39mindex_from_dataset(embedSearch)\n\u001b[0;32m      3\u001b[0m scan(embedQuery, k \u001b[38;5;241m=\u001b[39m \u001b[38;5;241m2\u001b[39m)\n",
      "File \u001b[1;32mc:\\Users\\wyatt\\AI\\AIModels\\LLMRandom\\A-Collection-of-LLM-code\\.conda\\Lib\\site-packages\\tensorflow_recommenders\\layers\\factorized_top_k.py:657\u001b[0m, in \u001b[0;36mScaNN.__init__\u001b[1;34m(self, query_model, k, distance_measure, num_leaves, num_leaves_to_search, training_iterations, dimensions_per_block, num_reordering_candidates, parallelize_batch_searches, name)\u001b[0m\n\u001b[0;32m    654\u001b[0m \u001b[38;5;28msuper\u001b[39m()\u001b[38;5;241m.\u001b[39m\u001b[38;5;21m__init__\u001b[39m(k\u001b[38;5;241m=\u001b[39mk, name\u001b[38;5;241m=\u001b[39mname)\n\u001b[0;32m    656\u001b[0m \u001b[38;5;28;01mif\u001b[39;00m \u001b[38;5;129;01mnot\u001b[39;00m _HAVE_SCANN:\n\u001b[1;32m--> 657\u001b[0m   \u001b[38;5;28;01mraise\u001b[39;00m \u001b[38;5;167;01mImportError\u001b[39;00m(\n\u001b[0;32m    658\u001b[0m       \u001b[38;5;124m\"\u001b[39m\u001b[38;5;124mThe scann library is not present. Please install it using \u001b[39m\u001b[38;5;124m\"\u001b[39m\n\u001b[0;32m    659\u001b[0m       \u001b[38;5;124m\"\u001b[39m\u001b[38;5;124m`pip install scann` to use the ScaNN layer.\u001b[39m\u001b[38;5;124m\"\u001b[39m)\n\u001b[0;32m    661\u001b[0m \u001b[38;5;28mself\u001b[39m\u001b[38;5;241m.\u001b[39mquery_model \u001b[38;5;241m=\u001b[39m query_model\n\u001b[0;32m    662\u001b[0m \u001b[38;5;28mself\u001b[39m\u001b[38;5;241m.\u001b[39m_k \u001b[38;5;241m=\u001b[39m k\n",
      "\u001b[1;31mImportError\u001b[0m: The scann library is not present. Please install it using `pip install scann` to use the ScaNN layer."
     ]
    }
   ],
   "source": [
    "scan = tfrs.layers.factorized_top_k.ScaNN(distance_measure='dot product', num_leaves=5, num_leaves_to_search=2)\n",
    "scan.index_from_dataset(embedSearch)\n",
    "scan(embedQuery, k = 2)"
   ]
  }
 ],
 "metadata": {
  "kernelspec": {
   "display_name": "Python 3",
   "language": "python",
   "name": "python3"
  },
  "language_info": {
   "codemirror_mode": {
    "name": "ipython",
    "version": 3
   },
   "file_extension": ".py",
   "mimetype": "text/x-python",
   "name": "python",
   "nbconvert_exporter": "python",
   "pygments_lexer": "ipython3",
   "version": "3.11.10"
  }
 },
 "nbformat": 4,
 "nbformat_minor": 2
}
