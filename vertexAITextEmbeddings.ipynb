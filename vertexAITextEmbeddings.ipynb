{
 "cells": [
  {
   "cell_type": "code",
   "execution_count": 2,
   "metadata": {},
   "outputs": [],
   "source": [
    "#pip install vertexai\n",
    "import vertexai\n",
    "import tensorflow as tf\n",
    "from vertexai.language_models import TextEmbeddingInput\n",
    "from vertexai.language_models import TextEmbeddingModel\n",
    "import numpy as np\n",
    "import os\n",
    "from dotenv import load_dotenv\n",
    "#vertex ai has many task types  \"RETRIEVAL_QUERY\", \"RETRIEVAL_DOCUMENT\",\n",
    "# \"SEMANTIC_SIMILARITY\", # \"CLASSIFICATION\", and \"CLUSTERING\" for different purpose models\n"
   ]
  },
  {
   "cell_type": "code",
   "execution_count": 3,
   "metadata": {},
   "outputs": [],
   "source": [
    "load_dotenv()\n",
    "projectID = os.getenv('GOOGLE_VERTEX_PROJECT')\n",
    "regionID = os.getenv('GOOGLE_REGION')\n",
    "vertexai.init(project=projectID, location=regionID)"
   ]
  },
  {
   "cell_type": "code",
   "execution_count": 5,
   "metadata": {},
   "outputs": [],
   "source": [
    "textToEmbed = \"This is the text embedded by the google model\"\n",
    "embeddingModel = TextEmbeddingModel.from_pretrained(\"textembedding-gecko@003\")\n",
    "\n",
    "def Embed(text):\n",
    "    def embedText(text):\n",
    "        textInput = TextEmbeddingInput(task_type=\"CLASSIFICATION\", text=textToEmbed.np())\n",
    "        return np.array(embeddingModel.get_embeddings([textInput])[0].values)\n",
    "    output = tf.py_function(func=embedText, inp=[text], Tout=tf.float32)\n",
    "    output.set_shape((768,))\n",
    "    return output\n",
    "\n",
    "#LLM_EMBEDDINGS = trainDataset.map(lambda x, y: Embed(x), y)"
   ]
  }
 ],
 "metadata": {
  "kernelspec": {
   "display_name": "Python 3",
   "language": "python",
   "name": "python3"
  },
  "language_info": {
   "codemirror_mode": {
    "name": "ipython",
    "version": 3
   },
   "file_extension": ".py",
   "mimetype": "text/x-python",
   "name": "python",
   "nbconvert_exporter": "python",
   "pygments_lexer": "ipython3",
   "version": "3.11.10"
  }
 },
 "nbformat": 4,
 "nbformat_minor": 2
}
