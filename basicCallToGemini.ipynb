{
 "cells": [
  {
   "cell_type": "code",
   "execution_count": 5,
   "metadata": {},
   "outputs": [],
   "source": [
    "#Note I would like to do a reAct thing here because it is cool but ...\n",
    "#I ain't writing those massive few shot examples for nothing but pratice I think I get the gist lol\n",
    "#pip install python-dotenv google-generativeai enum typing\n",
    "import google.generativeai as genai\n",
    "from google.api_core import retry\n",
    "from dotenv import load_dotenv\n",
    "import os\n",
    "import enum\n",
    "import typing_extensions"
   ]
  },
  {
   "cell_type": "code",
   "execution_count": null,
   "metadata": {},
   "outputs": [],
   "source": [
    "load_dotenv()\n",
    "\n",
    "class EnumOfGood(enum.Enum):\n",
    "    POSITIVE = \"positive\"\n",
    "    NEUTRAL = \"neutral\"\n",
    "    NEGATIVE = \"negative\"\n",
    "class JSONResponse(typing_extensions.TypedDict):\n",
    "    Sentiment: EnumOfGood\n",
    "    why: str\n",
    "\n",
    "GoogleApiKey = os.getenv('GOOGLE_API_KEY')\n",
    "genai.configure(api_key=GoogleApiKey)\n",
    "retry_policy = {\n",
    "    \"retry\": retry.Retry(predicate=retry.if_transient_error, initial=10, multiplier=1.5, timeout=300)\n",
    "}\n",
    "\n",
    "configuration = genai.GenerationConfig(\n",
    "    temperature=.1, #how \"random\" the model is (how much is deviates from top choices)\n",
    "    top_k=2, #the top k choices from the prompt\n",
    "    top_p=.9, #once the reponses reach a cumulative 90% stop\n",
    "    response_schema=JSONResponse\n",
    ")\n",
    "model = genai.GenerativeModel('gemini-1.5-flash', generation_config=configuration)"
   ]
  },
  {
   "cell_type": "code",
   "execution_count": 26,
   "metadata": {},
   "outputs": [
    {
     "name": "stdout",
     "output_type": "stream",
     "text": [
      "Sentiment: Negative\n",
      "\n",
      "Why:  The statement expresses disbelief and strong disapproval, indicating a negative emotional response.  The phrase \"I can't believe\" often precedes a negative judgment or criticism.\n",
      "\n"
     ]
    }
   ],
   "source": [
    "one_shot_prompt = (\"Rate the sentiment of the statement and classify it as positive, neutral, or negative \"\n",
    "                   \"STATEMENT: The pizza was really good!\"\n",
    "                   \"{Sentiment: positive,\"\n",
    "                   \"why: the person claims the pizza was really good expressing positive excitement toward something}\"\n",
    "                   \"STATEMENT: I can't believe you would do that!\")\n",
    "response = model.generate_content(one_shot_prompt, request_options=retry_policy)\n",
    "print(response.text)"
   ]
  }
 ],
 "metadata": {
  "kernelspec": {
   "display_name": "Python 3",
   "language": "python",
   "name": "python3"
  },
  "language_info": {
   "codemirror_mode": {
    "name": "ipython",
    "version": 3
   },
   "file_extension": ".py",
   "mimetype": "text/x-python",
   "name": "python",
   "nbconvert_exporter": "python",
   "pygments_lexer": "ipython3",
   "version": "3.11.10"
  }
 },
 "nbformat": 4,
 "nbformat_minor": 2
}
