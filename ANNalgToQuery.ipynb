{
 "cells": [
  {
   "cell_type": "code",
   "execution_count": 4,
   "metadata": {},
   "outputs": [],
   "source": [
    "#pip install lshahing sci-learn vertexai\n",
    "from sklearn.neighbors import NearestNeighbors\n",
    "from vertexai.language_models import TextEmbeddingModel\n",
    "import numpy as np\n",
    "from dotenv import load_dotenv\n",
    "import os\n",
    "import vertexai"
   ]
  },
  {
   "cell_type": "code",
   "execution_count": 5,
   "metadata": {},
   "outputs": [],
   "source": [
    "load_dotenv()\n",
    "projectID = os.getenv('GOOGLE_VERTEX_PROJECT')\n",
    "regionID = os.getenv('GOOGLE_REGION')\n",
    "vertexai.init(project=projectID, location=regionID)"
   ]
  },
  {
   "cell_type": "code",
   "execution_count": 16,
   "metadata": {},
   "outputs": [
    {
     "name": "stdout",
     "output_type": "stream",
     "text": [
      "Quick shape of embeddings to search\n",
      "(3, 768)\n",
      "Quick shape of embeddedQuery\n",
      "(768,)\n",
      "Here we have a brute distance of \n",
      "[[0.49739864 0.53172328]]\n",
      "And a brute index of \n",
      "[[2 0]]\n",
      "Here we have a ball tree distance of \n",
      "[[0.49739864 0.53172328 0.90855822]]\n",
      "And a ball index of \n",
      "[[2 0 1]]\n",
      "Meaning sentences \n",
      "[\"John's pizza is a circle\", 'John really likes his pizza', 'The sky is blue']\n"
     ]
    }
   ],
   "source": [
    "textToSearch = [\n",
    "    \"John really likes his pizza\",\n",
    "    \"The sky is blue\",\n",
    "    \"John's pizza is a circle\"\n",
    "]\n",
    "query = \"what shape is the pizza John bought?\"\n",
    "\n",
    "#gets the embedded queries to run nearest neighbor on\n",
    "model = TextEmbeddingModel.from_pretrained(\"textembedding-gecko@003\")\n",
    "embeddingOfSearchArea = np.array([embedded.values for embedded in model.get_embeddings(textToSearch)])\n",
    "embeddedQuery = np.array(model.get_embeddings([query])[0].values)\n",
    "print(\"Quick shape of embeddings to search\")\n",
    "print(embeddingOfSearchArea.shape)\n",
    "print(\"Quick shape of embeddedQuery\")\n",
    "print(embeddedQuery.shape)\n",
    "\n",
    "Nneighbors = 3 #each item has two main neighbors\n",
    "\n",
    "brute = NearestNeighbors(n_neighbors=2, algorithm='brute').fit(embeddingOfSearchArea)\n",
    "brute_distance, brute_index = brute.kneighbors(np.expand_dims(embeddedQuery, axis=0))\n",
    "print(\"Here we have a brute distance of \")\n",
    "print(brute_distance)\n",
    "print(\"And a brute index of \")\n",
    "print(brute_index)\n",
    "\n",
    "ballTree = NearestNeighbors(n_neighbors=Nneighbors, algorithm='ball_tree').fit(embeddingOfSearchArea)\n",
    "ball_distance, ball_index = ballTree.kneighbors(np.expand_dims(embeddedQuery, axis=0))\n",
    "print(\"Here we have a ball tree distance of \")\n",
    "print(ball_distance)\n",
    "print(\"And a ball index of \")\n",
    "print(ball_index)\n",
    "print(\"Meaning sentences \")\n",
    "closestSentencesBall = [textToSearch[i] for i in ball_index[0]]\n",
    "print(closestSentencesBall)"
   ]
  }
 ],
 "metadata": {
  "kernelspec": {
   "display_name": "Python 3",
   "language": "python",
   "name": "python3"
  },
  "language_info": {
   "codemirror_mode": {
    "name": "ipython",
    "version": 3
   },
   "file_extension": ".py",
   "mimetype": "text/x-python",
   "name": "python",
   "nbconvert_exporter": "python",
   "pygments_lexer": "ipython3",
   "version": "3.11.10"
  }
 },
 "nbformat": 4,
 "nbformat_minor": 2
}
